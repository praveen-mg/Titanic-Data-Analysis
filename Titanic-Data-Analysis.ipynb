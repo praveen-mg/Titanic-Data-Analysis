{
 "cells": [
  {
   "cell_type": "code",
   "execution_count": 2,
   "metadata": {
    "collapsed": true
   },
   "outputs": [],
   "source": [
    "Question\n",
    "\n",
    "1)What is relationship between gender on survival?\n",
    "\n",
    "2)What is relationship between class on survival?\n",
    "\n",
    "3)What is relationship between class, gender on survival?\n",
    "\n",
    "4) What is relationship between port of embarkation on survival?\n",
    "\n",
    "5)What is relationship between port of embarkation, gender, class on survival?\n",
    "\n",
    "6) What is relationship between different age group on survival?\n"
   ]
  },
  {
   "cell_type": "code",
   "execution_count": 148,
   "metadata": {
    "collapsed": false
   },
   "outputs": [
    {
     "name": "stdout",
     "output_type": "stream",
     "text": [
      "Populating the interactive namespace from numpy and matplotlib\n"
     ]
    }
   ],
   "source": [
    "\n",
    "%pylab inline\n",
    "import pandas as pd\n",
    "import numpy as np\n",
    "import matplotlib.pyplot as plt\n",
    "import seaborn as sns\n"
   ]
  },
  {
   "cell_type": "code",
   "execution_count": 159,
   "metadata": {
    "collapsed": false
   },
   "outputs": [],
   "source": [
    "titanic_df = pd.read_csv('titanic_data.csv')\n",
    "#print titanic_df"
   ]
  },
  {
   "cell_type": "code",
   "execution_count": 160,
   "metadata": {
    "collapsed": false
   },
   "outputs": [
    {
     "name": "stdout",
     "output_type": "stream",
     "text": [
      "Unique values of survived: [0 1]\n",
      "Unique values of class of travel: [3 1 2]\n",
      "Unique gender of people: ['male' 'female']\n",
      "Unique class of travel: ['S' 'C' 'Q' nan]\n",
      "Unique age of people: [ 22.    38.    26.    35.      nan  54.     2.    27.    14.     4.    58.\n",
      "  20.    39.    55.    31.    34.    15.    28.     8.    19.    40.    66.\n",
      "  42.    21.    18.     3.     7.    49.    29.    65.    28.5    5.    11.\n",
      "  45.    17.    32.    16.    25.     0.83  30.    33.    23.    24.    46.\n",
      "  59.    71.    37.    47.    14.5   70.5   32.5   12.     9.    36.5   51.\n",
      "  55.5   40.5   44.     1.    61.    56.    50.    36.    45.5   20.5   62.\n",
      "  41.    52.    63.    23.5    0.92  43.    60.    10.    64.    13.    48.\n",
      "   0.75  53.    57.    80.    70.    24.5    6.     0.67  30.5    0.42\n",
      "  34.5   74.  ]\n",
      "Unique values for sibling and Spouse [1 0 3 4 2 5 8]\n",
      "Unique age of people after cleaning: [ 22.    38.    26.    35.    54.     2.    27.    14.     4.    58.    20.\n",
      "  39.    55.    31.    34.    15.    28.     8.    19.    40.    66.    42.\n",
      "  21.    18.     3.     7.    49.    29.    65.    28.5    5.    11.    45.\n",
      "  17.    32.    16.    25.     0.83  30.    33.    23.    24.    46.    59.\n",
      "  71.    37.    47.    14.5   70.5   32.5   12.     9.    36.5   51.    55.5\n",
      "  40.5   44.     1.    61.    56.    50.    36.    45.5   20.5   62.    41.\n",
      "  52.    63.    23.5    0.92  43.    60.    10.    64.    13.    48.     0.75\n",
      "  53.    57.    80.    70.    24.5    6.     0.67  30.5    0.42  34.5   74.  ]\n",
      "Unique class of travel after cleaning: ['S' 'C' 'Q']\n"
     ]
    }
   ],
   "source": [
    "#Find possible values of survival, class, age and Embark \n",
    "\n",
    "#clean the data based on values present in the data frame\n",
    "\n",
    "#If the value for age and Embarked is not present I cleaned the data frame by dropping the particular row\n",
    "\n",
    "print \"Unique values of survived:\",titanic_df.Survived.unique()\n",
    "\n",
    "print \"Unique values of class of travel:\",titanic_df.Pclass.unique()\n",
    "\n",
    "print \"Unique gender of people:\", titanic_df.Sex.unique()\n",
    "\n",
    "print \"Unique class of travel:\", titanic_df.Embarked.unique()\n",
    "\n",
    "print \"Unique age of people:\", titanic_df.Age.unique()\n",
    "\n",
    "print \"Unique values for sibling and Spouse\", titanic_df.SibSp.unique()\n",
    "\n",
    "#print \"Total Number of People Travelled:\", titanic_df.count()\n",
    "\n",
    "titanic_df_without_na_age = titanic_df.dropna(subset=['Age'], how='all')\n",
    "titanic_df_without_na_age_embark =  titanic_df_without_na_age.dropna(subset=['Embarked'], how='all')\n",
    "\n",
    "\n",
    "titanic_df_cleaned = titanic_df_without_na_age_embark    #cleaned data frame\n",
    "\n",
    "print \"Unique age of people after cleaning:\", titanic_df_cleaned.Age.unique()\n",
    "print \"Unique class of travel after cleaning:\", titanic_df_cleaned.Embarked.unique()\n",
    "#print \"Total Number of People After Cleaning\",titanic_df_cleaned.count()\n"
   ]
  },
  {
   "cell_type": "code",
   "execution_count": 151,
   "metadata": {
    "collapsed": false
   },
   "outputs": [],
   "source": [
    "\n",
    "\n",
    "#Function to create percentage of survived and deceased which are grouped by column(s) \n",
    "\n",
    "def group_by_survived_percent(data,col):\n",
    "    \n",
    "    sum_survived_by_col = data.groupby(col).sum()['Survived']\n",
    "    count_survived_by_col = data.groupby(col).size()\n",
    "    percent_survived = ((sum_survived_by_col) / count_survived_by_col)*100 \n",
    "    percent_survived_df = pd.DataFrame(percent_survived).reset_index()\n",
    "    #sum_survived_by_col_df = pd.DataFrame(sum_survived_by_col).reset_index()\n",
    "    #sum_survived_by_col_df = sum_survived_by_col_df.rename(columns={0: 'CountAlive'})\n",
    "    #count_survived_by_col_df = count_survived_by_col_df\n",
    "    #sum_survived_by_col_df\n",
    "    percent_survived_df = percent_survived_df.rename(columns={0: 'percentAlive'})\n",
    "    percent_survived_df['percentDeceased'] = (100 - percent_survived_df['percentAlive']) \n",
    "    \n",
    "    return percent_survived_df\n",
    "    "
   ]
  },
  {
   "cell_type": "code",
   "execution_count": 152,
   "metadata": {
    "collapsed": true
   },
   "outputs": [],
   "source": [
    "\n",
    "#Function to create count of survived and deceased which are grouped by column(s) \n",
    "def group_by_survived_count(data,col):\n",
    "    sum_survived_by_col = data.groupby(col).sum()['Survived']\n",
    "    count_survived_by_col_df = data.groupby(col).size().reset_index()\n",
    "    #print count_survived_by_col_df\n",
    "    #sum_survived_by_col = count_survived_by_col - sum_survived_by_col\n",
    "    sum_survived_by_col_df = pd.DataFrame(sum_survived_by_col).reset_index()\n",
    "    sum_survived_by_col_df['deceased'] = count_survived_by_col_df[0] - sum_survived_by_col_df['Survived']\n",
    "    #sum_survived_by_col_df = sum_survived_by_col_df.rename(columns={0: 'CountAlive'})\n",
    "    return sum_survived_by_col_df"
   ]
  },
  {
   "cell_type": "code",
   "execution_count": 153,
   "metadata": {
    "collapsed": false
   },
   "outputs": [
    {
     "data": {
      "image/png": "[encoded data removed]",
      "text/plain": [
       "<matplotlib.figure.Figure at 0xca8a080>"
      ]
     },
     "metadata": {},
     "output_type": "display_data"
    },
    {
     "data": {
      "image/png": "[encoded data removed]",
      "text/plain": [
       "<matplotlib.figure.Figure at 0xa8981d0>"
      ]
     },
     "metadata": {},
     "output_type": "display_data"
    },
    {
     "name": "stdout",
     "output_type": "stream",
     "text": [
      "      Sex  Survived  deceased\n",
      "0  female       195        64\n",
      "1    male        93       360\n",
      "      Sex  percentAlive  percentDeceased\n",
      "0  female     75.289575        24.710425\n",
      "1    male     20.529801        79.470199\n"
     ]
    }
   ],
   "source": [
    "#Determines relationship between gender and survival\n",
    "\n",
    "\n",
    "percent_survived_by_sex_df = group_by_survived_percent(titanic_df_cleaned,'Sex')\n",
    "count_survived_by_sex_df = group_by_survived_count(titanic_df_cleaned,'Sex')\n",
    "\n",
    "count_survived_by_sex_df.plot.bar(stacked=True,x='Sex')\n",
    "plt.ylabel(\"Percent survived and deceased\")\n",
    "plt.title(\"Gender on Survival\")\n",
    "plt.show()\n",
    "percent_survived_by_sex_df.plot.bar(stacked=True,x='Sex')\n",
    "plt.ylabel(\"Number of survived and deceased\")\n",
    "plt.title(\"Gender on Survival\")\n",
    "plt.show()\n",
    "print count_survived_by_sex_df\n",
    "print percent_survived_by_sex_df\n",
    "\n",
    "\n"
   ]
  },
  {
   "cell_type": "code",
   "execution_count": null,
   "metadata": {
    "collapsed": true
   },
   "outputs": [],
   "source": [
    "1)What is relationship between gender on survival?\n",
    "We can see that there is a relationship between genders on survival. From total of 259 female 195 have survived, whereas only 93 \n",
    "Out of 453 men survived. Survival percent of female is 75.29% compared to 20.53% for male. These data shows female had better \n",
    "Chance of survival than male. This relationship can be clearly seen in the bar chart."
   ]
  },
  {
   "cell_type": "code",
   "execution_count": 154,
   "metadata": {
    "collapsed": false
   },
   "outputs": [
    {
     "data": {
      "image/png": "[encoded data removed]",
      "text/plain": [
       "<matplotlib.figure.Figure at 0xcc8d6a0>"
      ]
     },
     "metadata": {},
     "output_type": "display_data"
    },
    {
     "data": {
      "image/png": "[encoded data removed]",
      "text/plain": [
       "<matplotlib.figure.Figure at 0xb497588>"
      ]
     },
     "metadata": {},
     "output_type": "display_data"
    },
    {
     "name": "stdout",
     "output_type": "stream",
     "text": [
      "   Pclass  Survived  deceased\n",
      "0       1       120        64\n",
      "1       2        83        90\n",
      "2       3        85       270\n",
      "   Pclass  percentAlive  percentDeceased\n",
      "0       1     65.217391        34.782609\n",
      "1       2     47.976879        52.023121\n",
      "2       3     23.943662        76.056338\n"
     ]
    }
   ],
   "source": [
    "#Determines relationship between class on survival\n",
    "\n",
    "\n",
    "percent_survived_by_class_df = group_by_survived_percent(titanic_df_cleaned,'Pclass')\n",
    "count_survived_by_class_df   = group_by_survived_count(titanic_df_cleaned,'Pclass')\n",
    "percent_survived_by_class_df.plot.bar(stacked=True, x='Pclass')\n",
    "plt.ylabel(\"Percent survived and deceased\")\n",
    "plt.title(\"Class on Survival\")\n",
    "plt.show()\n",
    "count_survived_by_class_df.plot.bar(stacked=True,x='Pclass')\n",
    "plt.ylabel(\"Number survived and deceased\")\n",
    "plt.title(\"Class on Survival\")\n",
    "plt.show()\n",
    "print count_survived_by_class_df\n",
    "print percent_survived_by_class_df \n"
   ]
  },
  {
   "cell_type": "code",
   "execution_count": null,
   "metadata": {
    "collapsed": true
   },
   "outputs": [],
   "source": [
    "2)What is relationship between class on survival? \n",
    "\n",
    "We can see there is some relationship between classes (socio-economic status) on survival. Higher the class better is survival \n",
    "chance. From total of 184 first class people only 120 survived, on the other hand only 83 of 173 second class people survived\n",
    "and 85 of 355 people from third class survived. This corresponds to survival percentage of 65.22%, 47.98% and 23.94% for first, \n",
    "second and third class respectively. These data show better the class better the survival chance. This relationship can be \n",
    "clearly visualized using stacked bar chart."
   ]
  },
  {
   "cell_type": "code",
   "execution_count": 155,
   "metadata": {
    "collapsed": false
   },
   "outputs": [
    {
     "data": {
      "image/png": "[encoded data removed]",
      "text/plain": [
       "<matplotlib.figure.Figure at 0xadf4048>"
      ]
     },
     "metadata": {},
     "output_type": "display_data"
    },
    {
     "data": {
      "image/png": "[encoded data removed]",
      "text/plain": [
       "<matplotlib.figure.Figure at 0xabe7978>"
      ]
     },
     "metadata": {},
     "output_type": "display_data"
    },
    {
     "name": "stdout",
     "output_type": "stream",
     "text": [
      "   Pclass     Sex  percentAlive  percentDeceased\n",
      "0       1  female     96.385542         3.614458\n",
      "1       1    male     39.603960        60.396040\n",
      "2       2  female     91.891892         8.108108\n",
      "3       2    male     15.151515        84.848485\n",
      "4       3  female     46.078431        53.921569\n",
      "5       3    male     15.019763        84.980237\n",
      "   Pclass     Sex  Survived  deceased\n",
      "0       1  female        80         3\n",
      "1       1    male        40        61\n",
      "2       2  female        68         6\n",
      "3       2    male        15        84\n",
      "4       3  female        47        55\n",
      "5       3    male        38       215\n"
     ]
    }
   ],
   "source": [
    "#Determines relationship between class on survival\n",
    "\n",
    "\n",
    "percent_group_by_sex_class = group_by_survived_percent(titanic_df_cleaned,['Pclass','Sex'])\n",
    "count_group_by_sex_class  = group_by_survived_count(titanic_df_cleaned,['Pclass','Sex'])\n",
    "\n",
    "count_group_by_sex_class.plot.bar(stacked=True,x=['Pclass','Sex'],y=['Survived','deceased'])\n",
    "plt.ylabel(\"Percent survived and deceased\")\n",
    "plt.title(\"Gender and class on Survival\")\n",
    "plt.show()\n",
    "percent_group_by_sex_class.plot.bar(stacked=True,x=['Pclass','Sex'],y=['percentAlive','percentDeceased'])\n",
    "plt.ylabel(\"Number survived and deceased\")\n",
    "plt.title(\"Gender and class on Survival\")\n",
    "plt.show()\n",
    "\n",
    "print percent_group_by_sex_class\n",
    "print count_group_by_sex_class\n",
    "#group_by_sex_class = group_by_sex.groupby('Pclass').sum()['Survived']\n",
    "\n"
   ]
  },
  {
   "cell_type": "code",
   "execution_count": null,
   "metadata": {
    "collapsed": true
   },
   "outputs": [],
   "source": [
    "3)What is relationship between class, gender on survival?\n",
    "    we can see there relationship between class, gender on survival. Irrespective of the class female had better chance of \n",
    "survival. For instance survival percentage of female in first class is 96.39% compared to 39.60% of male in first class. \n",
    "Similarly survival percentage of female in third class is 46.08% compared to 15.0197% for male. \n",
    "\n",
    "Irrespective of gender people belong to higher class had better chance of survival, for instance survival percentage of first \n",
    "class male is 39.60% compared to 15.15% and 15.02% in second and third class respectively. Similarly we can see there is \n",
    "a drastic reduction in survival percentage of female as we move from first class to third class. These relationship \n",
    "can be clearly established using the stacked bar chart.\n"
   ]
  },
  {
   "cell_type": "code",
   "execution_count": 156,
   "metadata": {
    "collapsed": false
   },
   "outputs": [
    {
     "name": "stdout",
     "output_type": "stream",
     "text": [
      "  Embarked  Survived  deceased\n",
      "0        C        79        51\n",
      "1        Q         8        20\n",
      "2        S       201       353\n",
      "  Embarked  percentAlive  percentDeceased\n",
      "0        C     60.769231        39.230769\n",
      "1        Q     28.571429        71.428571\n",
      "2        S     36.281588        63.718412\n"
     ]
    }
   ],
   "source": [
    "#Determines relationship between Embarking on survival\n",
    "percent_group_by_embark_df = group_by_survived_percent(titanic_df_cleaned,'Embarked')\n",
    "count_group_by_embark_df   = group_by_survived_count(titanic_df_cleaned,'Embarked')\n",
    "#percent_group_by_embark_df.plot.bar(stacked=True, x='Embarked')\n",
    "#count_group_by_embark_df.plot.bar(stacked=True,x='Embarked')\n",
    "#plt.show()\n",
    "print count_group_by_embark_df\n",
    "print percent_group_by_embark_df"
   ]
  },
  {
   "cell_type": "code",
   "execution_count": null,
   "metadata": {
    "collapsed": true
   },
   "outputs": [],
   "source": [
    "4) what is relationship between port of embarkation on survival?\n",
    "Even though we see some pattern between port of embarkation and survival, it is very difficult to establish relationship \n",
    "between the two. Since number of people embarked at Southampton is much more compared to Cherbourg and Queenstown.  \n"
   ]
  },
  {
   "cell_type": "code",
   "execution_count": 157,
   "metadata": {
    "collapsed": false
   },
   "outputs": [
    {
     "name": "stdout",
     "output_type": "stream",
     "text": [
      "   Embarked  Pclass     Sex  Survived  deceased\n",
      "0         C       1  female        37         1\n",
      "1         C       1    male        16        20\n",
      "2         C       2  female         7         0\n",
      "3         C       2    male         1         7\n",
      "4         C       3  female        11         5\n",
      "5         C       3    male         7        18\n",
      "6         Q       1  female         1         0\n",
      "7         Q       1    male         0         1\n",
      "8         Q       2  female         1         0\n",
      "9         Q       2    male         0         1\n",
      "10        Q       3  female         5         5\n",
      "11        Q       3    male         1        13\n",
      "12        S       1  female        42         2\n",
      "13        S       1    male        24        40\n",
      "14        S       2  female        60         6\n",
      "15        S       2    male        14        76\n",
      "16        S       3  female        31        45\n",
      "17        S       3    male        30       184\n",
      "   Embarked  Pclass     Sex  percentAlive  percentDeceased\n",
      "0         C       1  female     97.368421         2.631579\n",
      "1         C       1    male     44.444444        55.555556\n",
      "2         C       2  female    100.000000         0.000000\n",
      "3         C       2    male     12.500000        87.500000\n",
      "4         C       3  female     68.750000        31.250000\n",
      "5         C       3    male     28.000000        72.000000\n",
      "6         Q       1  female    100.000000         0.000000\n",
      "7         Q       1    male      0.000000       100.000000\n",
      "8         Q       2  female    100.000000         0.000000\n",
      "9         Q       2    male      0.000000       100.000000\n",
      "10        Q       3  female     50.000000        50.000000\n",
      "11        Q       3    male      7.142857        92.857143\n",
      "12        S       1  female     95.454545         4.545455\n",
      "13        S       1    male     37.500000        62.500000\n",
      "14        S       2  female     90.909091         9.090909\n",
      "15        S       2    male     15.555556        84.444444\n",
      "16        S       3  female     40.789474        59.210526\n",
      "17        S       3    male     14.018692        85.981308\n"
     ]
    }
   ],
   "source": [
    "#Determine relationship between \n",
    "\n",
    "percent_group_by_embark_class = group_by_survived_percent(titanic_df_cleaned,['Embarked','Pclass','Sex'])\n",
    "\n",
    "count_group_by_embark_class  = group_by_survived_count(titanic_df_cleaned,['Embarked','Pclass','Sex'])\n",
    "\n",
    "#group_by_sex.plot(kind='bar')\n",
    "\n",
    "print count_group_by_embark_class\n",
    "print percent_group_by_embark_class"
   ]
  },
  {
   "cell_type": "code",
   "execution_count": null,
   "metadata": {
    "collapsed": true
   },
   "outputs": [],
   "source": [
    "5)What is relationship between port of embarkation, gender, class on survival?\n",
    "Since most people embarked at Southampton, we can fix port of embarkation to Southampton and compare gender and class on \n",
    "survival. For Southampton irrespective of class female had better chance of survival compared to male. For instance 95.45% \n",
    "of female survived compared to 37.5% of male in first class. Similarly irrespective of the gender people from higher class \n",
    "had better chance of survival.For instance 37.5% male survived in first class compared to 15.56% of male in second class.\n"
   ]
  },
  {
   "cell_type": "code",
   "execution_count": 162,
   "metadata": {
    "collapsed": false
   },
   "outputs": [
    {
     "name": "stdout",
     "output_type": "stream",
     "text": [
      "          PassengerId  Survived  Pclass      Age  SibSp  Parch       Fare  \\\n",
      "Age                                                                         \n",
      "(0, 10]         27574        38     169   273.17    118     91  1947.8041   \n",
      "(10, 20]        51481        44     291  1991.50     68     45  3395.8961   \n",
      "(20, 30]        98597        84     549  5847.50     74     55  6510.5453   \n",
      "(30, 40]        72585        68     323  5395.00     58     61  6506.8955   \n",
      "(40, 50]        41581        33     165  3902.00     32     37  3540.0336   \n",
      "(50, 60]        18892        17      64  2305.50     13     13  1880.5417   \n",
      "(60, 70]         6495         3      25  1024.00      3      6   700.4833   \n",
      "\n",
      "          count    percent  \n",
      "Age                         \n",
      "(0, 10]      64  59.375000  \n",
      "(10, 20]    115  38.260870  \n",
      "(20, 30]    230  36.521739  \n",
      "(30, 40]    154  44.155844  \n",
      "(40, 50]     86  38.372093  \n",
      "(50, 60]     42  40.476190  \n",
      "(60, 70]     16  18.750000  \n"
     ]
    },
    {
     "data": {
      "image/png": "[encoded data removed]",
      "text/plain": [
       "<matplotlib.figure.Figure at 0xcca3cc0>"
      ]
     },
     "metadata": {},
     "output_type": "display_data"
    }
   ],
   "source": [
    "#Relation ship between age group on survival\n",
    "\n",
    "#Age is divided into group of 10\n",
    "\n",
    "survival_by_age_group = titanic_df_cleaned.groupby(pd.cut(titanic_df_cleaned['Age'],np.arange(0,80,10))).sum()\n",
    "survival_by_age_group_count = titanic_df_cleaned.groupby(pd.cut(titanic_df_cleaned['Age'],np.arange(0,80,10))).count()\n",
    "survival_by_age_group['count'] = survival_by_age_group_count['Survived']\n",
    "survival_by_age_group['percent'] = (survival_by_age_group['Survived']/survival_by_age_group['count']) * 100\n",
    "#survival_by_age_group.plot(x='Age',y='percent')\n",
    "#plt.show()\n",
    "#print survival_by_age_group_count\n",
    "\n",
    "survival_by_age_group.plot(y='percent')\n",
    "plt.xlabel(\"Age Group\")\n",
    "plt.ylabel(\"Percent survived and deceased\")\n",
    "plt.title(\"Age group on Survival\")\n",
    "#plt.show()\n",
    "print survival_by_age_group"
   ]
  },
  {
   "cell_type": "code",
   "execution_count": null,
   "metadata": {
    "collapsed": true
   },
   "outputs": [],
   "source": [
    "6)What is relationship between different age group on survival?\n",
    "From the plot we can see children below age group of 10 had better chance of survival than others. \n",
    "\n",
    "Even though from the graph we can see people above 60 had lower chance of survival compared to others, it is very difficult\n",
    "to characterize since only 16 of them are aged 60 and above.\n"
   ]
  },
  {
   "cell_type": "code",
   "execution_count": null,
   "metadata": {
    "collapsed": true
   },
   "outputs": [],
   "source": [
    "Conclusion:\n",
    "From the analysis we can see there is some relationship between gender, class and age group on survival. Female had \n",
    "better chance of survaial and people from higher class had better chance of survival. Similarly children below the age of 10 \n",
    "had better chance of survival compared to others. It is very difficult to establish relationship between the port of embarkation \n",
    "and survival. Since number of people embarked at Southampton is much more compared to Cherbourg and Queenstown."
   ]
  },
  {
   "cell_type": "code",
   "execution_count": null,
   "metadata": {
    "collapsed": true
   },
   "outputs": [],
   "source": [
    "Reference:\n",
    "[1]http://stackoverflow.com/questions/21441259/pandas-groupby-range-of-values\n",
    "[2]http://pandas.pydata.org/pandas-docs/stable/visualization.html"
   ]
  }
 ],
 "metadata": {
  "kernelspec": {
   "display_name": "Python 2",
   "language": "python",
   "name": "python2"
  },
  "language_info": {
   "codemirror_mode": {
    "name": "ipython",
    "version": 2
   },
   "file_extension": ".py",
   "mimetype": "text/x-python",
   "name": "python",
   "nbconvert_exporter": "python",
   "pygments_lexer": "ipython2",
   "version": "2.7.11"
  }
 },
 "nbformat": 4,
 "nbformat_minor": 0
}
