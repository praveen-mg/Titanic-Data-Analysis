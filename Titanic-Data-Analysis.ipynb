{
 "cells": [
  {
   "cell_type": "code",
   "execution_count": 2,
   "metadata": {
    "collapsed": true
   },
   "outputs": [],
   "source": [
    "Question\n",
    "\n",
    "1)What is relationship between gender and survival?\n",
    "\n",
    "2)What is relationship between class and survival?\n",
    "\n",
    "3)What is relationship between class,gender and survival?"
   ]
  },
  {
   "cell_type": "code",
   "execution_count": 1,
   "metadata": {
    "collapsed": false
   },
   "outputs": [],
   "source": [
    "import pandas as pd\n",
    "import numpy as np\n",
    "import matplotlib.pyplot as plt\n",
    "import seaborn as sns"
   ]
  },
  {
   "cell_type": "code",
   "execution_count": 2,
   "metadata": {
    "collapsed": false
   },
   "outputs": [
    {
     "name": "stdout",
     "output_type": "stream",
     "text": [
      "     PassengerId  Survived  Pclass  \\\n",
      "0              1         0       3   \n",
      "1              2         1       1   \n",
      "2              3         1       3   \n",
      "3              4         1       1   \n",
      "4              5         0       3   \n",
      "5              6         0       3   \n",
      "6              7         0       1   \n",
      "7              8         0       3   \n",
      "8              9         1       3   \n",
      "9             10         1       2   \n",
      "10            11         1       3   \n",
      "11            12         1       1   \n",
      "12            13         0       3   \n",
      "13            14         0       3   \n",
      "14            15         0       3   \n",
      "15            16         1       2   \n",
      "16            17         0       3   \n",
      "17            18         1       2   \n",
      "18            19         0       3   \n",
      "19            20         1       3   \n",
      "20            21         0       2   \n",
      "21            22         1       2   \n",
      "22            23         1       3   \n",
      "23            24         1       1   \n",
      "24            25         0       3   \n",
      "25            26         1       3   \n",
      "26            27         0       3   \n",
      "27            28         0       1   \n",
      "28            29         1       3   \n",
      "29            30         0       3   \n",
      "..           ...       ...     ...   \n",
      "861          862         0       2   \n",
      "862          863         1       1   \n",
      "863          864         0       3   \n",
      "864          865         0       2   \n",
      "865          866         1       2   \n",
      "866          867         1       2   \n",
      "867          868         0       1   \n",
      "868          869         0       3   \n",
      "869          870         1       3   \n",
      "870          871         0       3   \n",
      "871          872         1       1   \n",
      "872          873         0       1   \n",
      "873          874         0       3   \n",
      "874          875         1       2   \n",
      "875          876         1       3   \n",
      "876          877         0       3   \n",
      "877          878         0       3   \n",
      "878          879         0       3   \n",
      "879          880         1       1   \n",
      "880          881         1       2   \n",
      "881          882         0       3   \n",
      "882          883         0       3   \n",
      "883          884         0       2   \n",
      "884          885         0       3   \n",
      "885          886         0       3   \n",
      "886          887         0       2   \n",
      "887          888         1       1   \n",
      "888          889         0       3   \n",
      "889          890         1       1   \n",
      "890          891         0       3   \n",
      "\n",
      "                                                  Name     Sex  Age  SibSp  \\\n",
      "0                              Braund, Mr. Owen Harris    male   22      1   \n",
      "1    Cumings, Mrs. John Bradley (Florence Briggs Th...  female   38      1   \n",
      "2                               Heikkinen, Miss. Laina  female   26      0   \n",
      "3         Futrelle, Mrs. Jacques Heath (Lily May Peel)  female   35      1   \n",
      "4                             Allen, Mr. William Henry    male   35      0   \n",
      "5                                     Moran, Mr. James    male  NaN      0   \n",
      "6                              McCarthy, Mr. Timothy J    male   54      0   \n",
      "7                       Palsson, Master. Gosta Leonard    male    2      3   \n",
      "8    Johnson, Mrs. Oscar W (Elisabeth Vilhelmina Berg)  female   27      0   \n",
      "9                  Nasser, Mrs. Nicholas (Adele Achem)  female   14      1   \n",
      "10                     Sandstrom, Miss. Marguerite Rut  female    4      1   \n",
      "11                            Bonnell, Miss. Elizabeth  female   58      0   \n",
      "12                      Saundercock, Mr. William Henry    male   20      0   \n",
      "13                         Andersson, Mr. Anders Johan    male   39      1   \n",
      "14                Vestrom, Miss. Hulda Amanda Adolfina  female   14      0   \n",
      "15                    Hewlett, Mrs. (Mary D Kingcome)   female   55      0   \n",
      "16                                Rice, Master. Eugene    male    2      4   \n",
      "17                        Williams, Mr. Charles Eugene    male  NaN      0   \n",
      "18   Vander Planke, Mrs. Julius (Emelia Maria Vande...  female   31      1   \n",
      "19                             Masselmani, Mrs. Fatima  female  NaN      0   \n",
      "20                                Fynney, Mr. Joseph J    male   35      0   \n",
      "21                               Beesley, Mr. Lawrence    male   34      0   \n",
      "22                         McGowan, Miss. Anna \"Annie\"  female   15      0   \n",
      "23                        Sloper, Mr. William Thompson    male   28      0   \n",
      "24                       Palsson, Miss. Torborg Danira  female    8      3   \n",
      "25   Asplund, Mrs. Carl Oscar (Selma Augusta Emilia...  female   38      1   \n",
      "26                             Emir, Mr. Farred Chehab    male  NaN      0   \n",
      "27                      Fortune, Mr. Charles Alexander    male   19      3   \n",
      "28                       O'Dwyer, Miss. Ellen \"Nellie\"  female  NaN      0   \n",
      "29                                 Todoroff, Mr. Lalio    male  NaN      0   \n",
      "..                                                 ...     ...  ...    ...   \n",
      "861                        Giles, Mr. Frederick Edward    male   21      1   \n",
      "862  Swift, Mrs. Frederick Joel (Margaret Welles Ba...  female   48      0   \n",
      "863                  Sage, Miss. Dorothy Edith \"Dolly\"  female  NaN      8   \n",
      "864                             Gill, Mr. John William    male   24      0   \n",
      "865                           Bystrom, Mrs. (Karolina)  female   42      0   \n",
      "866                       Duran y More, Miss. Asuncion  female   27      1   \n",
      "867               Roebling, Mr. Washington Augustus II    male   31      0   \n",
      "868                        van Melkebeke, Mr. Philemon    male  NaN      0   \n",
      "869                    Johnson, Master. Harold Theodor    male    4      1   \n",
      "870                                  Balkic, Mr. Cerin    male   26      0   \n",
      "871   Beckwith, Mrs. Richard Leonard (Sallie Monypeny)  female   47      1   \n",
      "872                           Carlsson, Mr. Frans Olof    male   33      0   \n",
      "873                        Vander Cruyssen, Mr. Victor    male   47      0   \n",
      "874              Abelson, Mrs. Samuel (Hannah Wizosky)  female   28      1   \n",
      "875                   Najib, Miss. Adele Kiamie \"Jane\"  female   15      0   \n",
      "876                      Gustafsson, Mr. Alfred Ossian    male   20      0   \n",
      "877                               Petroff, Mr. Nedelio    male   19      0   \n",
      "878                                 Laleff, Mr. Kristo    male  NaN      0   \n",
      "879      Potter, Mrs. Thomas Jr (Lily Alexenia Wilson)  female   56      0   \n",
      "880       Shelley, Mrs. William (Imanita Parrish Hall)  female   25      0   \n",
      "881                                 Markun, Mr. Johann    male   33      0   \n",
      "882                       Dahlberg, Miss. Gerda Ulrika  female   22      0   \n",
      "883                      Banfield, Mr. Frederick James    male   28      0   \n",
      "884                             Sutehall, Mr. Henry Jr    male   25      0   \n",
      "885               Rice, Mrs. William (Margaret Norton)  female   39      0   \n",
      "886                              Montvila, Rev. Juozas    male   27      0   \n",
      "887                       Graham, Miss. Margaret Edith  female   19      0   \n",
      "888           Johnston, Miss. Catherine Helen \"Carrie\"  female  NaN      1   \n",
      "889                              Behr, Mr. Karl Howell    male   26      0   \n",
      "890                                Dooley, Mr. Patrick    male   32      0   \n",
      "\n",
      "     Parch            Ticket      Fare        Cabin Embarked  \n",
      "0        0         A/5 21171    7.2500          NaN        S  \n",
      "1        0          PC 17599   71.2833          C85        C  \n",
      "2        0  STON/O2. 3101282    7.9250          NaN        S  \n",
      "3        0            113803   53.1000         C123        S  \n",
      "4        0            373450    8.0500          NaN        S  \n",
      "5        0            330877    8.4583          NaN        Q  \n",
      "6        0             17463   51.8625          E46        S  \n",
      "7        1            349909   21.0750          NaN        S  \n",
      "8        2            347742   11.1333          NaN        S  \n",
      "9        0            237736   30.0708          NaN        C  \n",
      "10       1           PP 9549   16.7000           G6        S  \n",
      "11       0            113783   26.5500         C103        S  \n",
      "12       0         A/5. 2151    8.0500          NaN        S  \n",
      "13       5            347082   31.2750          NaN        S  \n",
      "14       0            350406    7.8542          NaN        S  \n",
      "15       0            248706   16.0000          NaN        S  \n",
      "16       1            382652   29.1250          NaN        Q  \n",
      "17       0            244373   13.0000          NaN        S  \n",
      "18       0            345763   18.0000          NaN        S  \n",
      "19       0              2649    7.2250          NaN        C  \n",
      "20       0            239865   26.0000          NaN        S  \n",
      "21       0            248698   13.0000          D56        S  \n",
      "22       0            330923    8.0292          NaN        Q  \n",
      "23       0            113788   35.5000           A6        S  \n",
      "24       1            349909   21.0750          NaN        S  \n",
      "25       5            347077   31.3875          NaN        S  \n",
      "26       0              2631    7.2250          NaN        C  \n",
      "27       2             19950  263.0000  C23 C25 C27        S  \n",
      "28       0            330959    7.8792          NaN        Q  \n",
      "29       0            349216    7.8958          NaN        S  \n",
      "..     ...               ...       ...          ...      ...  \n",
      "861      0             28134   11.5000          NaN        S  \n",
      "862      0             17466   25.9292          D17        S  \n",
      "863      2          CA. 2343   69.5500          NaN        S  \n",
      "864      0            233866   13.0000          NaN        S  \n",
      "865      0            236852   13.0000          NaN        S  \n",
      "866      0     SC/PARIS 2149   13.8583          NaN        C  \n",
      "867      0          PC 17590   50.4958          A24        S  \n",
      "868      0            345777    9.5000          NaN        S  \n",
      "869      1            347742   11.1333          NaN        S  \n",
      "870      0            349248    7.8958          NaN        S  \n",
      "871      1             11751   52.5542          D35        S  \n",
      "872      0               695    5.0000  B51 B53 B55        S  \n",
      "873      0            345765    9.0000          NaN        S  \n",
      "874      0         P/PP 3381   24.0000          NaN        C  \n",
      "875      0              2667    7.2250          NaN        C  \n",
      "876      0              7534    9.8458          NaN        S  \n",
      "877      0            349212    7.8958          NaN        S  \n",
      "878      0            349217    7.8958          NaN        S  \n",
      "879      1             11767   83.1583          C50        C  \n",
      "880      1            230433   26.0000          NaN        S  \n",
      "881      0            349257    7.8958          NaN        S  \n",
      "882      0              7552   10.5167          NaN        S  \n",
      "883      0  C.A./SOTON 34068   10.5000          NaN        S  \n",
      "884      0   SOTON/OQ 392076    7.0500          NaN        S  \n",
      "885      5            382652   29.1250          NaN        Q  \n",
      "886      0            211536   13.0000          NaN        S  \n",
      "887      0            112053   30.0000          B42        S  \n",
      "888      2        W./C. 6607   23.4500          NaN        S  \n",
      "889      0            111369   30.0000         C148        C  \n",
      "890      0            370376    7.7500          NaN        Q  \n",
      "\n",
      "[891 rows x 12 columns]\n"
     ]
    }
   ],
   "source": [
    "titanic_df = pd.read_csv('titanic_data.csv')\n",
    "print titanic_df"
   ]
  },
  {
   "cell_type": "code",
   "execution_count": 3,
   "metadata": {
    "collapsed": false
   },
   "outputs": [
    {
     "name": "stdout",
     "output_type": "stream",
     "text": [
      "Unique values of survived: [0 1]\n",
      "Unique values of class of travel: [3 1 2]\n",
      "Unique gender of people: ['male' 'female']\n",
      "Unique class of travel: ['S' 'C' 'Q' nan]\n",
      "Unique age of people: [ 22.    38.    26.    35.      nan  54.     2.    27.    14.     4.    58.\n",
      "  20.    39.    55.    31.    34.    15.    28.     8.    19.    40.    66.\n",
      "  42.    21.    18.     3.     7.    49.    29.    65.    28.5    5.    11.\n",
      "  45.    17.    32.    16.    25.     0.83  30.    33.    23.    24.    46.\n",
      "  59.    71.    37.    47.    14.5   70.5   32.5   12.     9.    36.5   51.\n",
      "  55.5   40.5   44.     1.    61.    56.    50.    36.    45.5   20.5   62.\n",
      "  41.    52.    63.    23.5    0.92  43.    60.    10.    64.    13.    48.\n",
      "   0.75  53.    57.    80.    70.    24.5    6.     0.67  30.5    0.42\n",
      "  34.5   74.  ]\n",
      "Unique values for sibling and Spouse [1 0 3 4 2 5 8]\n",
      "Total Number of People Travelled: PassengerId    891\n",
      "Survived       891\n",
      "Pclass         891\n",
      "Name           891\n",
      "Sex            891\n",
      "Age            714\n",
      "SibSp          891\n",
      "Parch          891\n",
      "Ticket         891\n",
      "Fare           891\n",
      "Cabin          204\n",
      "Embarked       889\n",
      "dtype: int64\n",
      "Total Number of People After Cleaning PassengerId    712\n",
      "Survived       712\n",
      "Pclass         712\n",
      "Name           712\n",
      "Sex            712\n",
      "Age            712\n",
      "SibSp          712\n",
      "Parch          712\n",
      "Ticket         712\n",
      "Fare           712\n",
      "Cabin          183\n",
      "Embarked       712\n",
      "dtype: int64\n"
     ]
    }
   ],
   "source": [
    "#Find possible values of survival, class, age and Embark \n",
    "\n",
    "print \"Unique values of survived:\",titanic_df.Survived.unique()\n",
    "\n",
    "print \"Unique values of class of travel:\",titanic_df.Pclass.unique()\n",
    "\n",
    "print \"Unique gender of people:\", titanic_df.Sex.unique()\n",
    "\n",
    "print \"Unique class of travel:\", titanic_df.Embarked.unique()\n",
    "\n",
    "print \"Unique age of people:\", titanic_df.Age.unique()\n",
    "\n",
    "print \"Unique values for sibling and Spouse\", titanic_df.SibSp.unique()\n",
    "\n",
    "print \"Total Number of People Travelled:\", titanic_df.count()\n",
    "titanic_df_without_na_age = titanic_df.dropna(subset=['Age'], how='all')\n",
    "titanic_df_without_na_age_embark =  titanic_df_without_na_age.dropna(subset=['Embarked'], how='all')\n",
    "titanic_df_cleaned = titanic_df_without_na_age_embark\n",
    "print \"Total Number of People After Cleaning\",titanic_df_cleaned.count()\n",
    "#print \"Total Number of People Travelled:\", titanic_df_without_na_age.count()\n",
    "#print \"Total Number of People Travelled:\", titanic_df_without_na_age_embark.count()\n",
    "#titanic_df_age_cleaned = titanic_df_without_na_age.Age.apply(np.floor)\n",
    "#titanic_df_age_clean = titanic_df_without_na_age.apply(np.ceil)\n",
    "#print \"Unique age of people:\", titanic_df_without_na_age.Age.unique()"
   ]
  },
  {
   "cell_type": "code",
   "execution_count": 10,
   "metadata": {
    "collapsed": false
   },
   "outputs": [],
   "source": [
    "#print titanic_df_cleaned\n",
    "\n",
    "def group_by_survived_percent(data,col):\n",
    "    \n",
    "    sum_survived_by_col = data.groupby(col).sum()['Survived']\n",
    "    count_survived_by_col = data.groupby(col).size()\n",
    "    percent_survived = ((sum_survived_by_col) / count_survived_by_col)*100 \n",
    "    percent_survived_df = pd.DataFrame(percent_survived).reset_index()\n",
    "    #sum_survived_by_col_df = pd.DataFrame(sum_survived_by_col).reset_index()\n",
    "    #sum_survived_by_col_df = sum_survived_by_col_df.rename(columns={0: 'CountAlive'})\n",
    "    #count_survived_by_col_df = count_survived_by_col_df\n",
    "    #sum_survived_by_col_df\n",
    "    percent_survived_df = percent_survived_df.rename(columns={0: 'percentAlive'})\n",
    "    percent_survived_df['percentDeceased'] = (100 - percent_survived_df['percentAlive']) \n",
    "    \n",
    "    return percent_survived_df,\n",
    "    "
   ]
  },
  {
   "cell_type": "code",
   "execution_count": 65,
   "metadata": {
    "collapsed": true
   },
   "outputs": [],
   "source": [
    "def group_by_survived_count(data,col):\n",
    "    sum_survived_by_col = data.groupby(col).sum()['Survived']\n",
    "    count_survived_by_col_df = data.groupby(col).size().reset_index()\n",
    "    #print count_survived_by_col_df\n",
    "    #sum_survived_by_col = count_survived_by_col - sum_survived_by_col\n",
    "    sum_survived_by_col_df = pd.DataFrame(sum_survived_by_col).reset_index()\n",
    "    sum_survived_by_col_df['deceased'] = count_survived_by_col_df[0] - sum_survived_by_col_df['Survived']\n",
    "    #sum_survived_by_col_df = sum_survived_by_col_df.rename(columns={0: 'CountAlive'})\n",
    "    return sum_survived_by_col_df"
   ]
  },
  {
   "cell_type": "code",
   "execution_count": 66,
   "metadata": {
    "collapsed": true
   },
   "outputs": [],
   "source": [
    "def group_by_survived_percent_multiple(data,col):\n",
    "    \n",
    "    sum_survived_by_col = data.groupby(col).sum()['Survived']\n",
    "    count_survived_by_col = data.groupby(col).size()\n",
    "    percent_survived = ((sum_survived_by_col) / count_survived_by_col)*100 \n",
    "    return percent_survived"
   ]
  },
  {
   "cell_type": "code",
   "execution_count": 68,
   "metadata": {
    "collapsed": false
   },
   "outputs": [
    {
     "name": "stdout",
     "output_type": "stream",
     "text": [
      "      Sex  Survived  deceased\n",
      "0  female       195        64\n",
      "1    male        93       360\n",
      "      Sex  percentAlive  percentDeceased\n",
      "0  female     75.289575        24.710425\n",
      "1    male     20.529801        79.470199\n"
     ]
    }
   ],
   "source": [
    "#Determines relationship between gender and survival\n",
    "\n",
    "\n",
    "percent_survived_by_sex_df = group_by_survived_percent(titanic_df_cleaned,'Sex')\n",
    "count_survived_by_sex_df = group_by_survived_count(titanic_df_cleaned,'Sex')\n",
    "print count_survived_by_sex_df\n",
    "print percent_survived_by_sex_df\n"
   ]
  },
  {
   "cell_type": "code",
   "execution_count": 70,
   "metadata": {
    "collapsed": false
   },
   "outputs": [
    {
     "name": "stdout",
     "output_type": "stream",
     "text": [
      "   Pclass  Survived  deceased\n",
      "0       1       120        64\n",
      "1       2        83        90\n",
      "2       3        85       270\n",
      "   Pclass  percentAlive  percentDeceased\n",
      "0       1     65.217391        34.782609\n",
      "1       2     47.976879        52.023121\n",
      "2       3     23.943662        76.056338\n"
     ]
    }
   ],
   "source": [
    "#Determines relationship between class and survival\n",
    "\n",
    "\n",
    "percent_survived_by_class_df = group_by_survived_percent(titanic_df_cleaned,'Pclass')\n",
    "count_survived_by_class_df   = group_by_survived_count(titanic_df_cleaned,'Pclass')\n",
    "\n",
    "print count_survived_by_class_df\n",
    "print percent_survived_by_class_df \n"
   ]
  },
  {
   "cell_type": "code",
   "execution_count": 71,
   "metadata": {
    "collapsed": false
   },
   "outputs": [
    {
     "name": "stdout",
     "output_type": "stream",
     "text": [
      "   Pclass     Sex  percentAlive  percentDeceased\n",
      "0       1  female     96.385542         3.614458\n",
      "1       1    male     39.603960        60.396040\n",
      "2       2  female     91.891892         8.108108\n",
      "3       2    male     15.151515        84.848485\n",
      "4       3  female     46.078431        53.921569\n",
      "5       3    male     15.019763        84.980237\n",
      "   Pclass     Sex  Survived  deceased\n",
      "0       1  female        80         3\n",
      "1       1    male        40        61\n",
      "2       2  female        68         6\n",
      "3       2    male        15        84\n",
      "4       3  female        47        55\n",
      "5       3    male        38       215\n"
     ]
    }
   ],
   "source": [
    "#Determines relationship between class and survival\n",
    "\n",
    "\n",
    "percent_group_by_sex_class = group_by_survived_percent(titanic_df_cleaned,['Pclass','Sex'])\n",
    "count_group_by_sex_class  = group_by_survived_count(titanic_df_cleaned,['Pclass','Sex'])\n",
    "print percent_group_by_sex_class\n",
    "print count_group_by_sex_class\n",
    "percent_group_by_sex_class.plot.bar(stacked=True,x=['Pclass','Sex'],y=['percentAlive','percentDeceased'])\n",
    "plt.show()\n",
    "#group_by_sex_class = group_by_sex.groupby('Pclass').sum()['Survived']\n",
    "\n"
   ]
  },
  {
   "cell_type": "code",
   "execution_count": 73,
   "metadata": {
    "collapsed": false
   },
   "outputs": [
    {
     "name": "stdout",
     "output_type": "stream",
     "text": [
      "  Embarked  Survived  deceased\n",
      "0        C        79        51\n",
      "1        Q         8        20\n",
      "2        S       201       353\n",
      "  Embarked  percentAlive  percentDeceased\n",
      "0        C     60.769231        39.230769\n",
      "1        Q     28.571429        71.428571\n",
      "2        S     36.281588        63.718412\n"
     ]
    }
   ],
   "source": [
    "#Determines relationship between Embarking and survival\n",
    "percent_group_by_embark_df = group_by_survived_percent(titanic_df_cleaned,'Embarked')\n",
    "count_group_by_embark_df   = group_by_survived_count(titanic_df_cleaned,'Embarked')\n",
    "\n",
    "print count_group_by_embark_df\n",
    "print percent_group_by_embark_df"
   ]
  },
  {
   "cell_type": "code",
   "execution_count": 18,
   "metadata": {
    "collapsed": false
   },
   "outputs": [
    {
     "name": "stdout",
     "output_type": "stream",
     "text": [
      "   Embarked  Pclass     Sex  percentAlive  percentDeceased\n",
      "0         C       1  female     97.368421         2.631579\n",
      "1         C       1    male     44.444444        55.555556\n",
      "2         C       2  female    100.000000         0.000000\n",
      "3         C       2    male     12.500000        87.500000\n",
      "4         C       3  female     68.750000        31.250000\n",
      "5         C       3    male     28.000000        72.000000\n",
      "6         Q       1  female    100.000000         0.000000\n",
      "7         Q       1    male      0.000000       100.000000\n",
      "8         Q       2  female    100.000000         0.000000\n",
      "9         Q       2    male      0.000000       100.000000\n",
      "10        Q       3  female     50.000000        50.000000\n",
      "11        Q       3    male      7.142857        92.857143\n",
      "12        S       1  female     95.454545         4.545455\n",
      "13        S       1    male     37.500000        62.500000\n",
      "14        S       2  female     90.909091         9.090909\n",
      "15        S       2    male     15.555556        84.444444\n",
      "16        S       3  female     40.789474        59.210526\n",
      "17        S       3    male     14.018692        85.981308\n"
     ]
    }
   ],
   "source": [
    "#Determine relationship between \n",
    "\n",
    "percent_group_by_embark_class = group_by_survived_percent(titanic_df_cleaned,['Embarked','Pclass','Sex'])\n",
    "\n",
    "#group_by_sex.plot(kind='bar')\n",
    "\n",
    "print percent_group_by_embark_class"
   ]
  },
  {
   "cell_type": "code",
   "execution_count": 83,
   "metadata": {
    "collapsed": false
   },
   "outputs": [
    {
     "name": "stdout",
     "output_type": "stream",
     "text": [
      "          PassengerId  Survived  Pclass       Age  SibSp  Parch        Fare  \\\n",
      "Age                                                                           \n",
      "(0, 18]         61924        70     356   1489.67    175    130   4517.6002   \n",
      "(18, 36]       169412       148     889  10313.00    124     87  12032.7118   \n",
      "(36, 54]        70853        58     287   6760.50     61     79   6267.8419   \n",
      "(54, 72]        15724        11      59   2388.00      6     12   1755.9541   \n",
      "(72, 90]         1483         1       4    154.00      0      0     37.7750   \n",
      "\n",
      "          count  \n",
      "Age              \n",
      "(0, 18]     139  \n",
      "(18, 36]    380  \n",
      "(36, 54]    152  \n",
      "(54, 72]     39  \n",
      "(72, 90]      2  \n"
     ]
    }
   ],
   "source": [
    "survival_by_age_group = titanic_df_cleaned.groupby(pd.cut(titanic_df_cleaned['Age'],np.arange(0,100,18))).sum()\n",
    "survival_by_age_group_count = titanic_df_cleaned.groupby(pd.cut(titanic_df_cleaned['Age'],np.arange(0,100,18))).count()\n",
    "survival_by_age_group['count'] = survival_by_age_group_count['Survived']\n",
    "\n",
    "\n",
    "#print survival_by_age_group_count\n",
    "print survival_by_age_group"
   ]
  },
  {
   "cell_type": "code",
   "execution_count": 32,
   "metadata": {
    "collapsed": false
   },
   "outputs": [
    {
     "name": "stdout",
     "output_type": "stream",
     "text": [
      "  Embarked  percentAlive  percentDeceased\n",
      "0        C     60.769231        39.230769\n",
      "1        Q     28.571429        71.428571\n",
      "2        S     36.281588        63.718412\n"
     ]
    }
   ],
   "source": [
    "#Visualization \n",
    "\n",
    "#group_by_sex = titanic_df_cleaned.groupby('Sex').size()\n",
    "\n",
    "#print group_by_sex\n",
    "\n",
    "#plt.hist(x=group_by_sex['Sex'],y = group_by_sex.values )\n",
    "\n",
    "\n",
    "\n",
    "#group_by_sex.plot(kind='bar')\n",
    "#percent_group_by_embark_class.plot(kind='bar',stacked=True)\n",
    "#percent_group_by_embark_df = pd.DataFrame(percent_group_by_embark).reset_index()\n",
    "\n",
    "#percent_group_by_embark_df = percent_group_by_embark_df.rename(columns={0: 'percentAlive'})\n",
    "#percent_group_by_embark_df['percentDeceased'] = (100 - percent_group_by_embark_df['percentAlive']) \n",
    "#percent_group_by_embark_df.plot.bar(stacked=True)\n",
    "percent_group_by_embark_class.plot.bar(stacked=True,x=['Embarked','Pclass','Sex'],y=['percentAlive','percentDeceased'])\n",
    "\n",
    "\n",
    "print percent_group_by_embark_df\n",
    "plt.show()\n",
    "#group_by_sex['died'] = titanic_df_cleaned.groupby('Sex').size() - titanic_df_cleaned.groupby('Sex').sum()['Survived']\n",
    "\n",
    "\n",
    "#print titanic_df_cleaned.groupby('Sex').sum()['Survived']\n",
    "\n"
   ]
  },
  {
   "cell_type": "code",
   "execution_count": null,
   "metadata": {
    "collapsed": true
   },
   "outputs": [],
   "source": []
  },
  {
   "cell_type": "code",
   "execution_count": null,
   "metadata": {
    "collapsed": true
   },
   "outputs": [],
   "source": []
  },
  {
   "cell_type": "code",
   "execution_count": null,
   "metadata": {
    "collapsed": true
   },
   "outputs": [],
   "source": []
  }
 ],
 "metadata": {
  "kernelspec": {
   "display_name": "Python 2",
   "language": "python",
   "name": "python2"
  },
  "language_info": {
   "codemirror_mode": {
    "name": "ipython",
    "version": 2
   },
   "file_extension": ".py",
   "mimetype": "text/x-python",
   "name": "python",
   "nbconvert_exporter": "python",
   "pygments_lexer": "ipython2",
   "version": "2.7.11"
  }
 },
 "nbformat": 4,
 "nbformat_minor": 0
}
